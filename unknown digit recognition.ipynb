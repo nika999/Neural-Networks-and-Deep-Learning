{
 "cells": [
  {
   "cell_type": "markdown",
   "metadata": {},
   "source": [
    "# Using neural networks to recognize handwritten numbers"
   ]
  },
  {
   "cell_type": "code",
   "execution_count": 1,
   "metadata": {},
   "outputs": [
    {
     "name": "stdout",
     "output_type": "stream",
     "text": [
      "Requirement already satisfied: matplotlib in c:\\users\\bokan\\anaconda3\\lib\\site-packages (3.2.2)\n",
      "Requirement already satisfied: python-dateutil>=2.1 in c:\\users\\bokan\\anaconda3\\lib\\site-packages (from matplotlib) (2.8.1)\n",
      "Requirement already satisfied: numpy>=1.11 in c:\\users\\bokan\\anaconda3\\lib\\site-packages (from matplotlib) (1.18.5)\n",
      "Requirement already satisfied: kiwisolver>=1.0.1 in c:\\users\\bokan\\anaconda3\\lib\\site-packages (from matplotlib) (1.2.0)\n",
      "Requirement already satisfied: cycler>=0.10 in c:\\users\\bokan\\anaconda3\\lib\\site-packages (from matplotlib) (0.10.0)\n",
      "Requirement already satisfied: pyparsing!=2.0.4,!=2.1.2,!=2.1.6,>=2.0.1 in c:\\users\\bokan\\anaconda3\\lib\\site-packages (from matplotlib) (2.4.7)\n",
      "Requirement already satisfied: six>=1.5 in c:\\users\\bokan\\anaconda3\\lib\\site-packages (from python-dateutil>=2.1->matplotlib) (1.15.0)\n",
      "Collecting sklearn\n",
      "  Downloading sklearn-0.0.tar.gz (1.1 kB)\n",
      "Requirement already satisfied: scikit-learn in c:\\users\\bokan\\anaconda3\\lib\\site-packages (from sklearn) (0.23.1)\n",
      "Requirement already satisfied: scipy>=0.19.1 in c:\\users\\bokan\\anaconda3\\lib\\site-packages (from scikit-learn->sklearn) (1.5.0)\n",
      "Requirement already satisfied: numpy>=1.13.3 in c:\\users\\bokan\\anaconda3\\lib\\site-packages (from scikit-learn->sklearn) (1.18.5)\n",
      "Requirement already satisfied: joblib>=0.11 in c:\\users\\bokan\\anaconda3\\lib\\site-packages (from scikit-learn->sklearn) (0.16.0)\n",
      "Requirement already satisfied: threadpoolctl>=2.0.0 in c:\\users\\bokan\\anaconda3\\lib\\site-packages (from scikit-learn->sklearn) (2.1.0)\n",
      "Building wheels for collected packages: sklearn\n",
      "  Building wheel for sklearn (setup.py): started\n",
      "  Building wheel for sklearn (setup.py): finished with status 'done'\n",
      "  Created wheel for sklearn: filename=sklearn-0.0-py2.py3-none-any.whl size=1320 sha256=98e1f442dd65b4f364559051276c75f8b0103e7956746dc036fddd554004d91b\n",
      "  Stored in directory: c:\\users\\bokan\\appdata\\local\\pip\\cache\\wheels\\22\\0b\\40\\fd3f795caaa1fb4c6cb738bc1f56100be1e57da95849bfc897\n",
      "Successfully built sklearn\n",
      "Installing collected packages: sklearn\n",
      "Successfully installed sklearn-0.0\n",
      "^C\n"
     ]
    }
   ],
   "source": [
    "!pip install matplotlib \n",
    "!pip install sklearn \n",
    "!pip install tensorflow"
   ]
  },
  {
   "cell_type": "markdown",
   "metadata": {},
   "source": [
    "Import modules and libraries:"
   ]
  },
  {
   "cell_type": "code",
   "execution_count": 4,
   "metadata": {},
   "outputs": [],
   "source": [
    "import numpy as np\n",
    "import matplotlib.pyplot as plt\n",
    "import gzip\n",
    "from typing import List\n",
    "from sklearn.preprocessing import OneHotEncoder\n",
    "import tensorflow.keras as keras\n",
    "from sklearn.model_selection import train_test_split\n",
    "from sklearn.metrics import confusion_matrix\n",
    "import itertools\n",
    "%matplotlib inline"
   ]
  },
  {
   "cell_type": "markdown",
   "metadata": {},
   "source": [
    "MNIST is a huge database of handwritten numbers that is used as a benchmark and point of acquaintance with machine learning and image processing systems. It is ideal to focus specifically on the learning process of the neural network."
   ]
  },
  {
   "cell_type": "markdown",
   "metadata": {},
   "source": [
    "### Goal:\n",
    "Train the system classify each with the appropriate label (shown by the number). Using a dataset of 60,000 handwritten digit images (represented as 28x28 pixel images, each grayscale from 0 to 255)."
   ]
  },
  {
   "cell_type": "markdown",
   "metadata": {},
   "source": [
    "### Data set\n",
    "A dataset of training and test data, but for the sake of simplicity, this will only be a training dataset. Load it like this:"
   ]
  },
  {
   "cell_type": "code",
   "execution_count": 9,
   "metadata": {},
   "outputs": [
    {
     "name": "stdout",
     "output_type": "stream",
     "text": [
      "Process is interrupted.\n"
     ]
    }
   ],
   "source": [
    "%%bash\n",
    "\n",
    "rm -Rf train-images-idx3-ubyte.gz\n",
    "rm -Rf train-labels-idx1-ubyte.gz\n",
    "wget -q http://yann.lecun.com/exdb/mnist/train-images-idx3-ubyte.gz\n",
    "wget -q http://yann.lecun.com/exdb/mnist/train-labels-idx1-ubyte.gz"
   ]
  },
  {
   "cell_type": "markdown",
   "metadata": {},
   "source": [
    "There are 10 digits: (0-9), so each label must be a digit from 0 to 9. "
   ]
  },
  {
   "cell_type": "markdown",
   "metadata": {},
   "source": [
    "### Reading labels\n",
    "\n",
    "Label values from 0 to 9.\n",
    "\n",
    "The first 8 bytes (or the first 2 32-bit integers) can be skipped because they contain the metadata files required for low-level programming languages. To parse a file, you need to do the following operations:\n",
    "\n",
    "1.Open file with gzip library so it can be unpacked\n",
    "\n",
    "2.Read the entire byte array into memory\n",
    "\n",
    "3.Skip first 8 bytes\n",
    "\n",
    "4.Loop over each byte and convert it to an integer"
   ]
  },
  {
   "cell_type": "code",
   "execution_count": 10,
   "metadata": {},
   "outputs": [],
   "source": [
    "with gzip.open('train-labels-idx1-ubyte.gz') as train_labels:\n",
    "    data_from_train_file = train_labels.read()\n",
    "\n",
    "# skip first 8 bytes\n",
    "label_data = data_from_train_file[8:]\n",
    "assert len(label_data) == 60000\n",
    "\n",
    "# Convert each byte to an integer.\n",
    "# This will be a number between 0 and 9\n",
    "labels = [int(label_byte) for label_byte in label_data]\n",
    "assert min(labels) == 0 and max(labels) == 9\n",
    "assert len(labels) == 60000"
   ]
  },
  {
   "attachments": {},
   "cell_type": "markdown",
   "metadata": {},
   "source": [
    "### Reading images\n"
   ]
  },
  {
   "cell_type": "markdown",
   "metadata": {},
   "source": [
    "Reading images is slightly different from reading labels. The first 16 bytes contain already known metadata. You can skip them and go directly to reading the images. Each of them is represented as a 28 * 28 array of unsigned bytes. All it takes is to read one image at a time and store them in an array."
   ]
  },
  {
   "cell_type": "code",
   "execution_count": 11,
   "metadata": {},
   "outputs": [
    {
     "data": {
      "text/plain": [
       "(60000, 784)"
      ]
     },
     "execution_count": 11,
     "metadata": {},
     "output_type": "execute_result"
    }
   ],
   "source": [
    "SIZE_OF_ONE_IMAGE = 28 ** 2\n",
    "images = []\n",
    "\n",
    "# Looping through the training file and reading one image at a time\n",
    "with gzip.open('train-images-idx3-ubyte.gz') as train_images:\n",
    "    train_images.read(4 * 4)\n",
    "    ctr = 0\n",
    "    for _ in range(60000):\n",
    "        image = train_images.read(size=SIZE_OF_ONE_IMAGE)\n",
    "        assert len(image) == SIZE_OF_ONE_IMAGE\n",
    "        \n",
    "        # Convert to NumPy\n",
    "        image_np = np.frombuffer(image, dtype='uint8') / 255\n",
    "        images.append(image_np)\n",
    "\n",
    "images = np.array(images)\n",
    "images.shape"
   ]
  },
  {
   "cell_type": "markdown",
   "metadata": {},
   "source": [
    "There are 60,000 images in the list. Each of them is represented by a bit vector of size SIZE_OF_ONE_IMAGE. Let's try to plot an image using the matplotlib library"
   ]
  },
  {
   "cell_type": "code",
   "execution_count": 31,
   "metadata": {},
   "outputs": [
    {
     "data": {
      "image/png": "[encoded data removed]",
      "text/plain": [
       "<Figure size 432x288 with 1 Axes>"
      ]
     },
     "metadata": {
      "needs_background": "light"
     },
     "output_type": "display_data"
    }
   ],
   "source": [
    "def plot_image(pixels: np.array):\n",
    "    plt.imshow(pixels.reshape((28, 28)), cmap='gray')\n",
    "    plt.show()\n",
    "\n",
    "plot_image(images[25])"
   ]
  },
  {
   "cell_type": "markdown",
   "metadata": {},
   "source": [
    "### Encoding image labels using One-hot encoding"
   ]
  },
  {
   "cell_type": "code",
   "execution_count": 13,
   "metadata": {},
   "outputs": [
    {
     "data": {
      "text/plain": [
       "array([[0., 0., 0., ..., 0., 0., 0.],\n",
       "       [1., 0., 0., ..., 0., 0., 0.],\n",
       "       [0., 0., 0., ..., 0., 0., 0.],\n",
       "       ...,\n",
       "       [0., 0., 0., ..., 0., 0., 0.],\n",
       "       [0., 0., 0., ..., 0., 0., 0.],\n",
       "       [0., 0., 0., ..., 0., 1., 0.]])"
      ]
     },
     "execution_count": 13,
     "metadata": {},
     "output_type": "execute_result"
    }
   ],
   "source": [
    "labels_np = np.array(labels).reshape((-1, 1))\n",
    "\n",
    "encoder = OneHotEncoder(categories='auto')\n",
    "labels_np_onehot = encoder.fit_transform(labels_np).toarray()\n",
    "\n",
    "labels_np_onehot"
   ]
  },
  {
   "cell_type": "markdown",
   "metadata": {},
   "source": [
    "The input data and vector output have been successfully created, which will go to the input and output layers of the neural network. The input vector at index i will correspond to the output vector at index i."
   ]
  },
  {
   "cell_type": "markdown",
   "metadata": {},
   "source": [
    "Input and Output:"
   ]
  },
  {
   "cell_type": "code",
   "execution_count": 14,
   "metadata": {},
   "outputs": [
    {
     "data": {
      "text/plain": [
       "array([0., 0., 0., 0., 0., 0., 1., 0., 0., 0.])"
      ]
     },
     "execution_count": 14,
     "metadata": {},
     "output_type": "execute_result"
    }
   ],
   "source": [
    "labels_np_onehot[999]"
   ]
  },
  {
   "cell_type": "markdown",
   "metadata": {},
   "source": [
    "Input and Output:"
   ]
  },
  {
   "cell_type": "code",
   "execution_count": 16,
   "metadata": {},
   "outputs": [
    {
     "data": {
      "image/png": "[encoded data removed]",
      "text/plain": [
       "<Figure size 432x288 with 1 Axes>"
      ]
     },
     "metadata": {
      "needs_background": "light"
     },
     "output_type": "display_data"
    }
   ],
   "source": [
    "plot_image(images[999])"
   ]
  },
  {
   "cell_type": "markdown",
   "metadata": {},
   "source": [
    "In the example above, you can clearly see that the image with index 999 represents the digit 6. The vector associated with it contains 10 digits (since there are 10 labels), and the digit with index 6 is 1. This means that the label is correct."
   ]
  },
  {
   "cell_type": "markdown",
   "metadata": {},
   "source": [
    "### Dividing the dataset into training and test"
   ]
  },
  {
   "cell_type": "markdown",
   "metadata": {},
   "source": [
    "To check that the neural network has been trained correctly, we take a certain percentage of the training set (60,000 images) and use it for testing purposes."
   ]
  },
  {
   "cell_type": "code",
   "execution_count": 18,
   "metadata": {},
   "outputs": [
    {
     "name": "stdout",
     "output_type": "stream",
     "text": [
      "(45000, 10)\n",
      "(15000, 10)\n"
     ]
    }
   ],
   "source": [
    "X_train, X_test, y_train, y_test = train_test_split(images, labels_np_onehot)\n",
    "print(y_train.shape)\n",
    "print(y_test.shape)"
   ]
  },
  {
   "cell_type": "markdown",
   "metadata": {},
   "source": [
    "Here you can see that the entire set of 60,000 images is split into two: one with 45,000 and the other with 15,000 images."
   ]
  },
  {
   "cell_type": "markdown",
   "metadata": {},
   "source": [
    "### Neural network training with Keras"
   ]
  },
  {
   "cell_type": "code",
   "execution_count": 19,
   "metadata": {},
   "outputs": [
    {
     "name": "stdout",
     "output_type": "stream",
     "text": [
      "Model: \"sequential\"\n",
      "_________________________________________________________________\n",
      "Layer (type)                 Output Shape              Param #   \n",
      "=================================================================\n",
      "dense (Dense)                (None, 128)               100480    \n",
      "_________________________________________________________________\n",
      "dense_1 (Dense)              (None, 10)                1290      \n",
      "=================================================================\n",
      "Total params: 101,770\n",
      "Trainable params: 101,770\n",
      "Non-trainable params: 0\n",
      "_________________________________________________________________\n"
     ]
    }
   ],
   "source": [
    "model = keras.Sequential()\n",
    "model.add(keras.layers.Dense(input_shape=(SIZE_OF_ONE_IMAGE,), units=128, activation='relu'))\n",
    "model.add(keras.layers.Dense(10, activation='softmax'))\n",
    "\n",
    "model.summary()\n",
    "\n",
    "model.compile(optimizer='sgd',\n",
    "              loss='categorical_crossentropy',\n",
    "              metrics=['accuracy'])"
   ]
  },
  {
   "cell_type": "markdown",
   "metadata": {},
   "source": [
    "To train the neural network, let's execute this code."
   ]
  },
  {
   "cell_type": "code",
   "execution_count": 20,
   "metadata": {},
   "outputs": [
    {
     "name": "stdout",
     "output_type": "stream",
     "text": [
      "Epoch 1/20\n",
      "352/352 [==============================] - 3s 5ms/step - loss: 1.3658 - accuracy: 0.6672\n",
      "Epoch 2/20\n",
      "352/352 [==============================] - 1s 3ms/step - loss: 0.6416 - accuracy: 0.8532\n",
      "Epoch 3/20\n",
      "352/352 [==============================] - 1s 4ms/step - loss: 0.4905 - accuracy: 0.8751\n",
      "Epoch 4/20\n",
      "352/352 [==============================] - 1s 3ms/step - loss: 0.4270 - accuracy: 0.8863\n",
      "Epoch 5/20\n",
      "352/352 [==============================] - 1s 2ms/step - loss: 0.3900 - accuracy: 0.8942\n",
      "Epoch 6/20\n",
      "352/352 [==============================] - 1s 2ms/step - loss: 0.3651 - accuracy: 0.8994\n",
      "Epoch 7/20\n",
      "352/352 [==============================] - 1s 3ms/step - loss: 0.3468 - accuracy: 0.9035\n",
      "Epoch 8/20\n",
      "352/352 [==============================] - 2s 4ms/step - loss: 0.3320 - accuracy: 0.9072\n",
      "Epoch 9/20\n",
      "352/352 [==============================] - 1s 3ms/step - loss: 0.3199 - accuracy: 0.9101\n",
      "Epoch 10/20\n",
      "352/352 [==============================] - 1s 3ms/step - loss: 0.3094 - accuracy: 0.9137\n",
      "Epoch 11/20\n",
      "352/352 [==============================] - 1s 3ms/step - loss: 0.3006 - accuracy: 0.9156\n",
      "Epoch 12/20\n",
      "352/352 [==============================] - 1s 3ms/step - loss: 0.2923 - accuracy: 0.9182\n",
      "Epoch 13/20\n",
      "352/352 [==============================] - 1s 3ms/step - loss: 0.2851 - accuracy: 0.9206\n",
      "Epoch 14/20\n",
      "352/352 [==============================] - 1s 3ms/step - loss: 0.2783 - accuracy: 0.9225\n",
      "Epoch 15/20\n",
      "352/352 [==============================] - 1s 3ms/step - loss: 0.2724 - accuracy: 0.9237\n",
      "Epoch 16/20\n",
      "352/352 [==============================] - 1s 3ms/step - loss: 0.2666 - accuracy: 0.9254\n",
      "Epoch 17/20\n",
      "352/352 [==============================] - 1s 3ms/step - loss: 0.2612 - accuracy: 0.9270\n",
      "Epoch 18/20\n",
      "352/352 [==============================] - 1s 3ms/step - loss: 0.2563 - accuracy: 0.9285\n",
      "Epoch 19/20\n",
      "352/352 [==============================] - 1s 2ms/step - loss: 0.2516 - accuracy: 0.9296\n",
      "Epoch 20/20\n",
      "352/352 [==============================] - 1s 2ms/step - loss: 0.2471 - accuracy: 0.9311\n"
     ]
    },
    {
     "data": {
      "text/plain": [
       "<tensorflow.python.keras.callbacks.History at 0x180483a6d60>"
      ]
     },
     "execution_count": 20,
     "metadata": {},
     "output_type": "execute_result"
    }
   ],
   "source": [
    "model.fit(X_train, y_train, epochs=20, batch_size=128)"
   ]
  },
  {
   "cell_type": "markdown",
   "metadata": {},
   "source": [
    "Check accuracy on training data."
   ]
  },
  {
   "cell_type": "code",
   "execution_count": 21,
   "metadata": {},
   "outputs": [
    {
     "name": "stdout",
     "output_type": "stream",
     "text": [
      "469/469 [==============================] - 2s 1ms/step - loss: 0.2604 - accuracy: 0.9261\n"
     ]
    },
    {
     "data": {
      "text/plain": [
       "[0.26039621233940125, 0.9261333346366882]"
      ]
     },
     "execution_count": 21,
     "metadata": {},
     "output_type": "execute_result"
    }
   ],
   "source": [
    "model.evaluate(X_test, y_test)"
   ]
  },
  {
   "cell_type": "markdown",
   "metadata": {},
   "source": [
    "### Let's see the results\n",
    "\n",
    "So you have trained a neural network to predict handwritten numbers with an accuracy of better than 90%. Let's check it using the image from the test suite.\n",
    "\n",
    "Let's take a random image - a picture with index 1010. Take the predicted label (in this case - 8, because the number 1 is in the fifth position)"
   ]
  },
  {
   "cell_type": "code",
   "execution_count": 22,
   "metadata": {},
   "outputs": [
    {
     "data": {
      "text/plain": [
       "array([0., 0., 0., 0., 0., 0., 0., 0., 1., 0.])"
      ]
     },
     "execution_count": 22,
     "metadata": {},
     "output_type": "execute_result"
    }
   ],
   "source": [
    "y_test[1010]"
   ]
  },
  {
   "cell_type": "code",
   "execution_count": 23,
   "metadata": {},
   "outputs": [
    {
     "data": {
      "image/png": "[encoded data removed]",
      "text/plain": [
       "<Figure size 432x288 with 1 Axes>"
      ]
     },
     "metadata": {
      "needs_background": "light"
     },
     "output_type": "display_data"
    }
   ],
   "source": [
    "plot_image(X_test[1010])"
   ]
  },
  {
   "cell_type": "markdown",
   "metadata": {},
   "source": [
    "Understanding the output of the softmax activation layer\n",
    "Let's run the figure through the neural network and see what output it predicts.\n",
    "\n",
    "Inputs:"
   ]
  },
  {
   "cell_type": "code",
   "execution_count": 24,
   "metadata": {},
   "outputs": [],
   "source": [
    "predicted_results = model.predict(X_test[1010].reshape((1, -1)))"
   ]
  },
  {
   "cell_type": "markdown",
   "metadata": {},
   "source": [
    "The output of the softmax layer is the probability distribution for each output. In this case, there can be 10 of them (numbers from 0 to 9). But each image is expected to match only one.\n",
    "\n",
    "Since this is a probability distribution, their sum is approximately 1 (one)."
   ]
  },
  {
   "cell_type": "code",
   "execution_count": 25,
   "metadata": {},
   "outputs": [
    {
     "data": {
      "text/plain": [
       "1.0"
      ]
     },
     "execution_count": 25,
     "metadata": {},
     "output_type": "execute_result"
    }
   ],
   "source": [
    "predicted_results.sum()"
   ]
  },
  {
   "cell_type": "markdown",
   "metadata": {},
   "source": [
    "### Reading the output of a softmax layer for a specific digit\n",
    "As you can see further, the 5th index is really close to 1 (1.0), which means that with a high degree of probability it is\n",
    "8 ... and it is!"
   ]
  },
  {
   "cell_type": "code",
   "execution_count": 27,
   "metadata": {},
   "outputs": [
    {
     "data": {
      "text/plain": [
       "array([[1.3613815e-05, 3.0923202e-06, 3.0686157e-03, 2.3192824e-03,\n",
       "        1.5817874e-04, 1.9288261e-03, 3.1949994e-06, 1.5988569e-04,\n",
       "        9.8946184e-01, 2.8834771e-03]], dtype=float32)"
      ]
     },
     "execution_count": 27,
     "metadata": {},
     "output_type": "execute_result"
    }
   ],
   "source": [
    "predicted_results"
   ]
  },
  {
   "cell_type": "markdown",
   "metadata": {},
   "source": [
    "Viewing the error matrix"
   ]
  },
  {
   "cell_type": "code",
   "execution_count": 28,
   "metadata": {},
   "outputs": [
    {
     "data": {
      "text/plain": [
       "array([[1453,    0,    4,    6,    1,   12,   19,    1,   13,    1],\n",
       "       [   0, 1621,    4,    6,    3,   12,    1,    3,    9,    3],\n",
       "       [  15,   11, 1335,   19,   28,    5,   18,   30,   22,    2],\n",
       "       [   8,    6,   39, 1341,    3,   43,    7,   23,   28,   20],\n",
       "       [   2,   10,    9,    2, 1352,    1,   15,    2,    7,   53],\n",
       "       [  17,    8,    5,   33,   12, 1203,   28,    6,   20,   14],\n",
       "       [   8,    3,    7,    0,   11,   19, 1477,    0,    7,    0],\n",
       "       [   4,   18,   13,    3,   19,    4,    0, 1438,    3,   33],\n",
       "       [   8,   25,   12,   27,    8,   24,    7,    5, 1319,   24],\n",
       "       [   9,    7,    7,   30,   38,   10,    0,   34,   12, 1353]],\n",
       "      dtype=int64)"
      ]
     },
     "execution_count": 28,
     "metadata": {},
     "output_type": "execute_result"
    }
   ],
   "source": [
    "predicted_outputs = np.argmax(model.predict(X_test), axis=1)\n",
    "expected_outputs = np.argmax(y_test, axis=1)\n",
    "\n",
    "predicted_confusion_matrix = confusion_matrix(expected_outputs, predicted_outputs)\n",
    "predicted_confusion_matrix"
   ]
  },
  {
   "cell_type": "markdown",
   "metadata": {},
   "source": [
    "### Visualizing data"
   ]
  },
  {
   "cell_type": "code",
   "execution_count": 29,
   "metadata": {},
   "outputs": [
    {
     "data": {
      "image/png": "[encoded data removed]",
      "text/plain": [
       "<Figure size 432x288 with 2 Axes>"
      ]
     },
     "metadata": {
      "needs_background": "light"
     },
     "output_type": "display_data"
    }
   ],
   "source": [
    "def plot_confusion_matrix(cm, classes,\n",
    "                          title='Confusion matrix',\n",
    "                          cmap=plt.cm.Blues):\n",
    "    \"\"\"\n",
    "    This function prints and plots the confusion matrix.\n",
    "    Normalization can be applied by setting `normalize=True`.\n",
    "    \"\"\"\n",
    "\n",
    "    plt.imshow(cm, interpolation='nearest', cmap=cmap)\n",
    "    plt.title(title)\n",
    "    plt.colorbar()\n",
    "    tick_marks = np.arange(len(classes))\n",
    "    plt.xticks(tick_marks, classes, rotation=45)\n",
    "    plt.yticks(tick_marks, classes)\n",
    "\n",
    "    fmt = 'd'\n",
    "    thresh = cm.max() / 2.\n",
    "    for i, j in itertools.product(range(cm.shape[0]), range(cm.shape[1])):\n",
    "        plt.text(j, i, format(cm[i, j], fmt),\n",
    "                 horizontalalignment=\"center\",\n",
    "                 color=\"white\" if cm[i, j] > thresh else \"black\")\n",
    "\n",
    "    plt.ylabel('True label')\n",
    "    plt.xlabel('Predicted label')\n",
    "    plt.tight_layout()\n",
    "\n",
    "\n",
    "# Compute confusion matrix\n",
    "class_names = [str(idx) for idx in range(10)]\n",
    "cnf_matrix = confusion_matrix(expected_outputs, predicted_outputs)\n",
    "np.set_printoptions(precision=2)\n",
    "\n",
    "# Plot non-normalized confusion matrix\n",
    "plt.figure()\n",
    "plot_confusion_matrix(cnf_matrix, classes=class_names,\n",
    "                      title='Confusion matrix, without normalization')\n",
    "\n",
    "plt.show()"
   ]
  }
 ],
 "metadata": {
  "kernelspec": {
   "display_name": "Python 3",
   "language": "python",
   "name": "python3"
  },
  "language_info": {
   "codemirror_mode": {
    "name": "ipython",
    "version": 3
   },
   "file_extension": ".py",
   "mimetype": "text/x-python",
   "name": "python",
   "nbconvert_exporter": "python",
   "pygments_lexer": "ipython3",
   "version": "3.8.3"
  }
 },
 "nbformat": 4,
 "nbformat_minor": 4
}
