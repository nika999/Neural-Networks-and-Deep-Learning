{
 "cells": [
  {
   "cell_type": "code",
   "execution_count": 1,
   "metadata": {},
   "outputs": [],
   "source": [
    "import pandas as pd \n",
    "import numpy as np "
   ]
  },
  {
   "cell_type": "markdown",
   "metadata": {},
   "source": [
    "# Load and preprocess train data"
   ]
  },
  {
   "cell_type": "code",
   "execution_count": 2,
   "metadata": {},
   "outputs": [],
   "source": [
    "df = pd.read_csv('securitytextsdetection/train.csv')"
   ]
  },
  {
   "cell_type": "code",
   "execution_count": 3,
   "metadata": {},
   "outputs": [
    {
     "data": {
      "text/plain": [
       "example_id    object\n",
       "text          object\n",
       "label          int64\n",
       "dtype: object"
      ]
     },
     "execution_count": 3,
     "metadata": {},
     "output_type": "execute_result"
    }
   ],
   "source": [
    "df.dtypes"
   ]
  },
  {
   "cell_type": "code",
   "execution_count": 4,
   "metadata": {},
   "outputs": [
    {
     "data": {
      "text/html": [
       "<div>\n",
       "<style scoped>\n",
       "    .dataframe tbody tr th:only-of-type {\n",
       "        vertical-align: middle;\n",
       "    }\n",
       "\n",
       "    .dataframe tbody tr th {\n",
       "        vertical-align: top;\n",
       "    }\n",
       "\n",
       "    .dataframe thead th {\n",
       "        text-align: right;\n",
       "    }\n",
       "</style>\n",
       "<table border=\"1\" class=\"dataframe\">\n",
       "  <thead>\n",
       "    <tr style=\"text-align: right;\">\n",
       "      <th></th>\n",
       "      <th>example_id</th>\n",
       "      <th>text</th>\n",
       "      <th>label</th>\n",
       "    </tr>\n",
       "  </thead>\n",
       "  <tbody>\n",
       "    <tr>\n",
       "      <th>0</th>\n",
       "      <td>140d03eabb7cb5c2558605eb8336689c</td>\n",
       "      <td>brandpost best of both worlds hybrid onsite an...</td>\n",
       "      <td>0</td>\n",
       "    </tr>\n",
       "    <tr>\n",
       "      <th>1</th>\n",
       "      <td>f7f1f906c9e2b76e63020f8794516185</td>\n",
       "      <td>$mention$ they shall in all cases except treas...</td>\n",
       "      <td>0</td>\n",
       "    </tr>\n",
       "    <tr>\n",
       "      <th>2</th>\n",
       "      <td>39f0b2ebc12e008a7a43ec318d0c3874</td>\n",
       "      <td>lifelock offers to protect you from the equifa...</td>\n",
       "      <td>0</td>\n",
       "    </tr>\n",
       "    <tr>\n",
       "      <th>3</th>\n",
       "      <td>ad4e57c69f00548253cb6d47b15c3ce4</td>\n",
       "      <td>skimmer adware spent two months in google play...</td>\n",
       "      <td>1</td>\n",
       "    </tr>\n",
       "    <tr>\n",
       "      <th>4</th>\n",
       "      <td>236bfe8f2f145dbcf17be122546946db</td>\n",
       "      <td>just want to love and be loved</td>\n",
       "      <td>0</td>\n",
       "    </tr>\n",
       "    <tr>\n",
       "      <th>5</th>\n",
       "      <td>f9f0419dd6ec37b9f72a8a8292a37d0b</td>\n",
       "      <td>cyber attack on barts nhs trust eloited zeroda...</td>\n",
       "      <td>1</td>\n",
       "    </tr>\n",
       "    <tr>\n",
       "      <th>6</th>\n",
       "      <td>3e23b538a07b92f2e27b6964dd30242b</td>\n",
       "      <td>docusigns customer email database accessed by ...</td>\n",
       "      <td>1</td>\n",
       "    </tr>\n",
       "    <tr>\n",
       "      <th>7</th>\n",
       "      <td>991a2ba0398b4b4bc63201141a401207</td>\n",
       "      <td>ddos real threat that big data can help combat...</td>\n",
       "      <td>1</td>\n",
       "    </tr>\n",
       "    <tr>\n",
       "      <th>8</th>\n",
       "      <td>ee2971e296b39717c23e070ef08f64b3</td>\n",
       "      <td>cyberattack glossary thaw are malware phassach...</td>\n",
       "      <td>0</td>\n",
       "    </tr>\n",
       "    <tr>\n",
       "      <th>9</th>\n",
       "      <td>a1c2ec94210674309d9896540f6894c8</td>\n",
       "      <td>malware is not going away trust your network s...</td>\n",
       "      <td>0</td>\n",
       "    </tr>\n",
       "    <tr>\n",
       "      <th>10</th>\n",
       "      <td>5025adba95c01e6fa8879b7bd137965a</td>\n",
       "      <td>New Mac #malware on the loose: What you need t...</td>\n",
       "      <td>1</td>\n",
       "    </tr>\n",
       "    <tr>\n",
       "      <th>11</th>\n",
       "      <td>f0c244f5c81f16ee0528865ebae6506b</td>\n",
       "      <td>fbi investigating reported data breach affecti...</td>\n",
       "      <td>1</td>\n",
       "    </tr>\n",
       "    <tr>\n",
       "      <th>12</th>\n",
       "      <td>66f6abe90e9f9b5a243ee530d7b9908b</td>\n",
       "      <td>great article on phishing what it is how to av...</td>\n",
       "      <td>0</td>\n",
       "    </tr>\n",
       "    <tr>\n",
       "      <th>13</th>\n",
       "      <td>3f381f1ff36c0f589362d8635ec08ada</td>\n",
       "      <td>the equifax breach is every day $url$</td>\n",
       "      <td>0</td>\n",
       "    </tr>\n",
       "    <tr>\n",
       "      <th>14</th>\n",
       "      <td>70faa74078c091f25854054e38ae3fa4</td>\n",
       "      <td>here s what it costs to freeze your credit aft...</td>\n",
       "      <td>0</td>\n",
       "    </tr>\n",
       "    <tr>\n",
       "      <th>15</th>\n",
       "      <td>7a8a0ce97271d502323a0b4a37d567d4</td>\n",
       "      <td>brianhonan beware scammers phishing for disast...</td>\n",
       "      <td>1</td>\n",
       "    </tr>\n",
       "    <tr>\n",
       "      <th>16</th>\n",
       "      <td>467ab3478b0c13fec01f137526d6404a</td>\n",
       "      <td>$mention$ fucking ddos are you in</td>\n",
       "      <td>0</td>\n",
       "    </tr>\n",
       "    <tr>\n",
       "      <th>17</th>\n",
       "      <td>982b41759ffe22a31bfa8eadf488d207</td>\n",
       "      <td>nexus critical vulnerability discovered and re...</td>\n",
       "      <td>1</td>\n",
       "    </tr>\n",
       "    <tr>\n",
       "      <th>18</th>\n",
       "      <td>889a85906e4e9ab738bf3bc9637fc703</td>\n",
       "      <td>the register coppers persistently breach data ...</td>\n",
       "      <td>1</td>\n",
       "    </tr>\n",
       "    <tr>\n",
       "      <th>19</th>\n",
       "      <td>3319dfdbe36496ba1e6a4cd0613bec9c</td>\n",
       "      <td>our industrial relations laws are in breach of...</td>\n",
       "      <td>0</td>\n",
       "    </tr>\n",
       "  </tbody>\n",
       "</table>\n",
       "</div>"
      ],
      "text/plain": [
       "                          example_id  \\\n",
       "0   140d03eabb7cb5c2558605eb8336689c   \n",
       "1   f7f1f906c9e2b76e63020f8794516185   \n",
       "2   39f0b2ebc12e008a7a43ec318d0c3874   \n",
       "3   ad4e57c69f00548253cb6d47b15c3ce4   \n",
       "4   236bfe8f2f145dbcf17be122546946db   \n",
       "5   f9f0419dd6ec37b9f72a8a8292a37d0b   \n",
       "6   3e23b538a07b92f2e27b6964dd30242b   \n",
       "7   991a2ba0398b4b4bc63201141a401207   \n",
       "8   ee2971e296b39717c23e070ef08f64b3   \n",
       "9   a1c2ec94210674309d9896540f6894c8   \n",
       "10  5025adba95c01e6fa8879b7bd137965a   \n",
       "11  f0c244f5c81f16ee0528865ebae6506b   \n",
       "12  66f6abe90e9f9b5a243ee530d7b9908b   \n",
       "13  3f381f1ff36c0f589362d8635ec08ada   \n",
       "14  70faa74078c091f25854054e38ae3fa4   \n",
       "15  7a8a0ce97271d502323a0b4a37d567d4   \n",
       "16  467ab3478b0c13fec01f137526d6404a   \n",
       "17  982b41759ffe22a31bfa8eadf488d207   \n",
       "18  889a85906e4e9ab738bf3bc9637fc703   \n",
       "19  3319dfdbe36496ba1e6a4cd0613bec9c   \n",
       "\n",
       "                                                 text  label  \n",
       "0   brandpost best of both worlds hybrid onsite an...      0  \n",
       "1   $mention$ they shall in all cases except treas...      0  \n",
       "2   lifelock offers to protect you from the equifa...      0  \n",
       "3   skimmer adware spent two months in google play...      1  \n",
       "4                      just want to love and be loved      0  \n",
       "5   cyber attack on barts nhs trust eloited zeroda...      1  \n",
       "6   docusigns customer email database accessed by ...      1  \n",
       "7   ddos real threat that big data can help combat...      1  \n",
       "8   cyberattack glossary thaw are malware phassach...      0  \n",
       "9   malware is not going away trust your network s...      0  \n",
       "10  New Mac #malware on the loose: What you need t...      1  \n",
       "11  fbi investigating reported data breach affecti...      1  \n",
       "12  great article on phishing what it is how to av...      0  \n",
       "13              the equifax breach is every day $url$      0  \n",
       "14  here s what it costs to freeze your credit aft...      0  \n",
       "15  brianhonan beware scammers phishing for disast...      1  \n",
       "16                  $mention$ fucking ddos are you in      0  \n",
       "17  nexus critical vulnerability discovered and re...      1  \n",
       "18  the register coppers persistently breach data ...      1  \n",
       "19  our industrial relations laws are in breach of...      0  "
      ]
     },
     "execution_count": 4,
     "metadata": {},
     "output_type": "execute_result"
    }
   ],
   "source": [
    "df[:20]"
   ]
  },
  {
   "cell_type": "code",
   "execution_count": 5,
   "metadata": {},
   "outputs": [
    {
     "data": {
      "text/plain": [
       "0    708\n",
       "1    481\n",
       "Name: label, dtype: int64"
      ]
     },
     "execution_count": 5,
     "metadata": {},
     "output_type": "execute_result"
    }
   ],
   "source": [
    "df.label.value_counts()"
   ]
  },
  {
   "cell_type": "code",
   "execution_count": 6,
   "metadata": {},
   "outputs": [],
   "source": [
    "from string import punctuation\n",
    "\n",
    "from nltk.tokenize import word_tokenize\n",
    "from nltk.corpus import stopwords\n",
    "from nltk.stem import WordNetLemmatizer \n",
    "#from replacers import\n",
    "lemmatizer = WordNetLemmatizer() \n",
    "stop_words = set(stopwords.words('english'))"
   ]
  },
  {
   "cell_type": "code",
   "execution_count": 7,
   "metadata": {},
   "outputs": [],
   "source": [
    "def preprocess_text(tokenizer, lemmatizer, stop_words, punctuation, text): \n",
    "    tokens = tokenizer(text.lower())\n",
    "    lemmas = [lemmatizer.lemmatize(token) for token in tokens]\n",
    "    return [token for token in lemmas if token not in stop_words and token not in punctuation]\n",
    "\n",
    "df['cleaned'] = df.text.apply(lambda x: preprocess_text(word_tokenize, lemmatizer, stop_words, punctuation, x))"
   ]
  },
  {
   "cell_type": "code",
   "execution_count": 8,
   "metadata": {},
   "outputs": [
    {
     "data": {
      "text/html": [
       "<div>\n",
       "<style scoped>\n",
       "    .dataframe tbody tr th:only-of-type {\n",
       "        vertical-align: middle;\n",
       "    }\n",
       "\n",
       "    .dataframe tbody tr th {\n",
       "        vertical-align: top;\n",
       "    }\n",
       "\n",
       "    .dataframe thead th {\n",
       "        text-align: right;\n",
       "    }\n",
       "</style>\n",
       "<table border=\"1\" class=\"dataframe\">\n",
       "  <thead>\n",
       "    <tr style=\"text-align: right;\">\n",
       "      <th></th>\n",
       "      <th>example_id</th>\n",
       "      <th>text</th>\n",
       "      <th>label</th>\n",
       "      <th>cleaned</th>\n",
       "    </tr>\n",
       "  </thead>\n",
       "  <tbody>\n",
       "    <tr>\n",
       "      <th>0</th>\n",
       "      <td>140d03eabb7cb5c2558605eb8336689c</td>\n",
       "      <td>brandpost best of both worlds hybrid onsite an...</td>\n",
       "      <td>0</td>\n",
       "      <td>[brandpost, best, world, hybrid, onsite, cloud...</td>\n",
       "    </tr>\n",
       "    <tr>\n",
       "      <th>1</th>\n",
       "      <td>f7f1f906c9e2b76e63020f8794516185</td>\n",
       "      <td>$mention$ they shall in all cases except treas...</td>\n",
       "      <td>0</td>\n",
       "      <td>[mention, shall, case, except, treason, felony...</td>\n",
       "    </tr>\n",
       "    <tr>\n",
       "      <th>2</th>\n",
       "      <td>39f0b2ebc12e008a7a43ec318d0c3874</td>\n",
       "      <td>lifelock offers to protect you from the equifa...</td>\n",
       "      <td>0</td>\n",
       "      <td>[lifelock, offer, protect, equifax, breach, se...</td>\n",
       "    </tr>\n",
       "    <tr>\n",
       "      <th>3</th>\n",
       "      <td>ad4e57c69f00548253cb6d47b15c3ce4</td>\n",
       "      <td>skimmer adware spent two months in google play...</td>\n",
       "      <td>1</td>\n",
       "      <td>[skimmer, adware, spent, two, month, google, p...</td>\n",
       "    </tr>\n",
       "    <tr>\n",
       "      <th>4</th>\n",
       "      <td>236bfe8f2f145dbcf17be122546946db</td>\n",
       "      <td>just want to love and be loved</td>\n",
       "      <td>0</td>\n",
       "      <td>[want, love, loved]</td>\n",
       "    </tr>\n",
       "  </tbody>\n",
       "</table>\n",
       "</div>"
      ],
      "text/plain": [
       "                         example_id  \\\n",
       "0  140d03eabb7cb5c2558605eb8336689c   \n",
       "1  f7f1f906c9e2b76e63020f8794516185   \n",
       "2  39f0b2ebc12e008a7a43ec318d0c3874   \n",
       "3  ad4e57c69f00548253cb6d47b15c3ce4   \n",
       "4  236bfe8f2f145dbcf17be122546946db   \n",
       "\n",
       "                                                text  label  \\\n",
       "0  brandpost best of both worlds hybrid onsite an...      0   \n",
       "1  $mention$ they shall in all cases except treas...      0   \n",
       "2  lifelock offers to protect you from the equifa...      0   \n",
       "3  skimmer adware spent two months in google play...      1   \n",
       "4                     just want to love and be loved      0   \n",
       "\n",
       "                                             cleaned  \n",
       "0  [brandpost, best, world, hybrid, onsite, cloud...  \n",
       "1  [mention, shall, case, except, treason, felony...  \n",
       "2  [lifelock, offer, protect, equifax, breach, se...  \n",
       "3  [skimmer, adware, spent, two, month, google, p...  \n",
       "4                                [want, love, loved]  "
      ]
     },
     "execution_count": 8,
     "metadata": {},
     "output_type": "execute_result"
    }
   ],
   "source": [
    "df.head()"
   ]
  },
  {
   "cell_type": "code",
   "execution_count": 9,
   "metadata": {},
   "outputs": [],
   "source": [
    "def flat_nested(nested):\n",
    "    flatten = []\n",
    "    for item in nested:\n",
    "        if isinstance(item, list):\n",
    "            flatten.extend(item)\n",
    "        else:\n",
    "            flatten.append(item)\n",
    "    return flatten"
   ]
  },
  {
   "cell_type": "code",
   "execution_count": 10,
   "metadata": {},
   "outputs": [],
   "source": [
    "from collections import Counter, defaultdict \n",
    "\n",
    "cnt_vocab1 = Counter(flat_nested(df.cleaned.tolist()))"
   ]
  },
  {
   "cell_type": "code",
   "execution_count": 11,
   "metadata": {},
   "outputs": [
    {
     "data": {
      "text/plain": [
       "4145"
      ]
     },
     "execution_count": 11,
     "metadata": {},
     "output_type": "execute_result"
    }
   ],
   "source": [
    "len(cnt_vocab1)"
   ]
  },
  {
   "cell_type": "markdown",
   "metadata": {},
   "source": [
    "# Load and preprocess test data"
   ]
  },
  {
   "cell_type": "code",
   "execution_count": 12,
   "metadata": {},
   "outputs": [],
   "source": [
    "df_test = pd.read_csv('securitytextsdetection/test.csv')"
   ]
  },
  {
   "cell_type": "code",
   "execution_count": 13,
   "metadata": {},
   "outputs": [
    {
     "data": {
      "text/html": [
       "<div>\n",
       "<style scoped>\n",
       "    .dataframe tbody tr th:only-of-type {\n",
       "        vertical-align: middle;\n",
       "    }\n",
       "\n",
       "    .dataframe tbody tr th {\n",
       "        vertical-align: top;\n",
       "    }\n",
       "\n",
       "    .dataframe thead th {\n",
       "        text-align: right;\n",
       "    }\n",
       "</style>\n",
       "<table border=\"1\" class=\"dataframe\">\n",
       "  <thead>\n",
       "    <tr style=\"text-align: right;\">\n",
       "      <th></th>\n",
       "      <th>example_id</th>\n",
       "      <th>text</th>\n",
       "    </tr>\n",
       "  </thead>\n",
       "  <tbody>\n",
       "    <tr>\n",
       "      <th>0</th>\n",
       "      <td>24bf52cc84b75bce8ee9c0cdd0b5117f</td>\n",
       "      <td>phishing heads to the cloud forbes $url$ cloud</td>\n",
       "    </tr>\n",
       "    <tr>\n",
       "      <th>1</th>\n",
       "      <td>708cc462eca0c274bcff304bbc4396f8</td>\n",
       "      <td>Sports Direct Failed to Tell Staff of Data Bre...</td>\n",
       "    </tr>\n",
       "    <tr>\n",
       "      <th>2</th>\n",
       "      <td>c5da1d371af9525d2fc2174311e3dae4</td>\n",
       "      <td>understanding vulnerability through humanright...</td>\n",
       "    </tr>\n",
       "    <tr>\n",
       "      <th>3</th>\n",
       "      <td>844f5f5be464a0600891ac6b8c1a1afd</td>\n",
       "      <td>cussword manager onelogin hit by data breach $...</td>\n",
       "    </tr>\n",
       "    <tr>\n",
       "      <th>4</th>\n",
       "      <td>97daba48c36db68f3e84ebcbf8952aa2</td>\n",
       "      <td>vuln multiple flexense products cve20177310 bu...</td>\n",
       "    </tr>\n",
       "  </tbody>\n",
       "</table>\n",
       "</div>"
      ],
      "text/plain": [
       "                         example_id  \\\n",
       "0  24bf52cc84b75bce8ee9c0cdd0b5117f   \n",
       "1  708cc462eca0c274bcff304bbc4396f8   \n",
       "2  c5da1d371af9525d2fc2174311e3dae4   \n",
       "3  844f5f5be464a0600891ac6b8c1a1afd   \n",
       "4  97daba48c36db68f3e84ebcbf8952aa2   \n",
       "\n",
       "                                                text  \n",
       "0     phishing heads to the cloud forbes $url$ cloud  \n",
       "1  Sports Direct Failed to Tell Staff of Data Bre...  \n",
       "2  understanding vulnerability through humanright...  \n",
       "3  cussword manager onelogin hit by data breach $...  \n",
       "4  vuln multiple flexense products cve20177310 bu...  "
      ]
     },
     "execution_count": 13,
     "metadata": {},
     "output_type": "execute_result"
    }
   ],
   "source": [
    "df_test.head()"
   ]
  },
  {
   "cell_type": "code",
   "execution_count": 14,
   "metadata": {},
   "outputs": [],
   "source": [
    "df_test['cleaned'] = df_test.text.apply(lambda x: preprocess_text(word_tokenize, lemmatizer, stop_words, punctuation, x))"
   ]
  },
  {
   "cell_type": "code",
   "execution_count": 15,
   "metadata": {},
   "outputs": [
    {
     "data": {
      "text/html": [
       "<div>\n",
       "<style scoped>\n",
       "    .dataframe tbody tr th:only-of-type {\n",
       "        vertical-align: middle;\n",
       "    }\n",
       "\n",
       "    .dataframe tbody tr th {\n",
       "        vertical-align: top;\n",
       "    }\n",
       "\n",
       "    .dataframe thead th {\n",
       "        text-align: right;\n",
       "    }\n",
       "</style>\n",
       "<table border=\"1\" class=\"dataframe\">\n",
       "  <thead>\n",
       "    <tr style=\"text-align: right;\">\n",
       "      <th></th>\n",
       "      <th>example_id</th>\n",
       "      <th>text</th>\n",
       "      <th>cleaned</th>\n",
       "    </tr>\n",
       "  </thead>\n",
       "  <tbody>\n",
       "    <tr>\n",
       "      <th>0</th>\n",
       "      <td>24bf52cc84b75bce8ee9c0cdd0b5117f</td>\n",
       "      <td>phishing heads to the cloud forbes $url$ cloud</td>\n",
       "      <td>[phishing, head, cloud, forbes, url, cloud]</td>\n",
       "    </tr>\n",
       "    <tr>\n",
       "      <th>1</th>\n",
       "      <td>708cc462eca0c274bcff304bbc4396f8</td>\n",
       "      <td>Sports Direct Failed to Tell Staff of Data Bre...</td>\n",
       "      <td>[sport, direct, failed, tell, staff, data, bre...</td>\n",
       "    </tr>\n",
       "    <tr>\n",
       "      <th>2</th>\n",
       "      <td>c5da1d371af9525d2fc2174311e3dae4</td>\n",
       "      <td>understanding vulnerability through humanright...</td>\n",
       "      <td>[understanding, vulnerability, humanrights, me...</td>\n",
       "    </tr>\n",
       "    <tr>\n",
       "      <th>3</th>\n",
       "      <td>844f5f5be464a0600891ac6b8c1a1afd</td>\n",
       "      <td>cussword manager onelogin hit by data breach $...</td>\n",
       "      <td>[cussword, manager, onelogin, hit, data, breac...</td>\n",
       "    </tr>\n",
       "    <tr>\n",
       "      <th>4</th>\n",
       "      <td>97daba48c36db68f3e84ebcbf8952aa2</td>\n",
       "      <td>vuln multiple flexense products cve20177310 bu...</td>\n",
       "      <td>[vuln, multiple, flexense, product, cve2017731...</td>\n",
       "    </tr>\n",
       "  </tbody>\n",
       "</table>\n",
       "</div>"
      ],
      "text/plain": [
       "                         example_id  \\\n",
       "0  24bf52cc84b75bce8ee9c0cdd0b5117f   \n",
       "1  708cc462eca0c274bcff304bbc4396f8   \n",
       "2  c5da1d371af9525d2fc2174311e3dae4   \n",
       "3  844f5f5be464a0600891ac6b8c1a1afd   \n",
       "4  97daba48c36db68f3e84ebcbf8952aa2   \n",
       "\n",
       "                                                text  \\\n",
       "0     phishing heads to the cloud forbes $url$ cloud   \n",
       "1  Sports Direct Failed to Tell Staff of Data Bre...   \n",
       "2  understanding vulnerability through humanright...   \n",
       "3  cussword manager onelogin hit by data breach $...   \n",
       "4  vuln multiple flexense products cve20177310 bu...   \n",
       "\n",
       "                                             cleaned  \n",
       "0        [phishing, head, cloud, forbes, url, cloud]  \n",
       "1  [sport, direct, failed, tell, staff, data, bre...  \n",
       "2  [understanding, vulnerability, humanrights, me...  \n",
       "3  [cussword, manager, onelogin, hit, data, breac...  \n",
       "4  [vuln, multiple, flexense, product, cve2017731...  "
      ]
     },
     "execution_count": 15,
     "metadata": {},
     "output_type": "execute_result"
    }
   ],
   "source": [
    "df_test.head()"
   ]
  },
  {
   "cell_type": "code",
   "execution_count": 16,
   "metadata": {},
   "outputs": [
    {
     "data": {
      "text/plain": [
       "(786, 3)"
      ]
     },
     "execution_count": 16,
     "metadata": {},
     "output_type": "execute_result"
    }
   ],
   "source": [
    "df_test.shape"
   ]
  },
  {
   "cell_type": "code",
   "execution_count": 17,
   "metadata": {},
   "outputs": [],
   "source": [
    "cnt_vocab2 = Counter(flat_nested(df_test.cleaned.tolist()))"
   ]
  },
  {
   "cell_type": "code",
   "execution_count": 18,
   "metadata": {},
   "outputs": [
    {
     "data": {
      "text/plain": [
       "3162"
      ]
     },
     "execution_count": 18,
     "metadata": {},
     "output_type": "execute_result"
    }
   ],
   "source": [
    "len(cnt_vocab2)"
   ]
  },
  {
   "cell_type": "markdown",
   "metadata": {},
   "source": [
    "# Train model"
   ]
  },
  {
   "cell_type": "code",
   "execution_count": 19,
   "metadata": {},
   "outputs": [],
   "source": [
    "cnt_vocab_all = {**cnt_vocab1, **cnt_vocab2}\n",
    "vocabulary = set(cnt_vocab_all)"
   ]
  },
  {
   "cell_type": "code",
   "execution_count": 20,
   "metadata": {},
   "outputs": [
    {
     "data": {
      "text/plain": [
       "5752"
      ]
     },
     "execution_count": 20,
     "metadata": {},
     "output_type": "execute_result"
    }
   ],
   "source": [
    "len(vocabulary)"
   ]
  },
  {
   "cell_type": "code",
   "execution_count": 21,
   "metadata": {},
   "outputs": [],
   "source": [
    "from sklearn.feature_extraction.text import TfidfVectorizer\n",
    "\n",
    "corpus = df.cleaned.apply(lambda x: ' '.join(x))\n",
    "y = df.label\n",
    "\n",
    "vectorizer = TfidfVectorizer(vocabulary = vocabulary)\n",
    "X = vectorizer.fit_transform(corpus)"
   ]
  },
  {
   "cell_type": "code",
   "execution_count": 22,
   "metadata": {},
   "outputs": [],
   "source": [
    "from sklearn.linear_model import LogisticRegression\n",
    "clf = LogisticRegression(random_state=0, solver = 'lbfgs', multi_class = 'multinomial').fit(X, y)"
   ]
  },
  {
   "cell_type": "code",
   "execution_count": 23,
   "metadata": {},
   "outputs": [
    {
     "data": {
      "text/plain": [
       "0.9613120269133726"
      ]
     },
     "execution_count": 23,
     "metadata": {},
     "output_type": "execute_result"
    }
   ],
   "source": [
    "clf.score(X, y)"
   ]
  },
  {
   "cell_type": "markdown",
   "metadata": {},
   "source": [
    "# sample_submission"
   ]
  },
  {
   "cell_type": "code",
   "execution_count": 24,
   "metadata": {},
   "outputs": [],
   "source": [
    "corpus_test = df_test.cleaned.apply(lambda x: ' '.join(x))"
   ]
  },
  {
   "cell_type": "code",
   "execution_count": 25,
   "metadata": {},
   "outputs": [],
   "source": [
    "X_test = vectorizer.fit_transform(corpus_test)"
   ]
  },
  {
   "cell_type": "code",
   "execution_count": 26,
   "metadata": {},
   "outputs": [],
   "source": [
    "label = clf.predict(X_test)"
   ]
  },
  {
   "cell_type": "code",
   "execution_count": 27,
   "metadata": {},
   "outputs": [],
   "source": [
    "def Tobinary(arr):\n",
    "    result = []\n",
    "    for i in arr:\n",
    "        if i:\n",
    "            result.append(True)\n",
    "        else:\n",
    "            result.append(False)\n",
    "    return result"
   ]
  },
  {
   "cell_type": "code",
   "execution_count": 28,
   "metadata": {},
   "outputs": [],
   "source": [
    "label = Tobinary(label)"
   ]
  },
  {
   "cell_type": "code",
   "execution_count": 29,
   "metadata": {},
   "outputs": [],
   "source": [
    "sample_submission = pd.DataFrame({'example_id' : df_test['example_id'].tolist(), 'label' : label})"
   ]
  },
  {
   "cell_type": "code",
   "execution_count": 30,
   "metadata": {},
   "outputs": [
    {
     "data": {
      "text/html": [
       "<div>\n",
       "<style scoped>\n",
       "    .dataframe tbody tr th:only-of-type {\n",
       "        vertical-align: middle;\n",
       "    }\n",
       "\n",
       "    .dataframe tbody tr th {\n",
       "        vertical-align: top;\n",
       "    }\n",
       "\n",
       "    .dataframe thead th {\n",
       "        text-align: right;\n",
       "    }\n",
       "</style>\n",
       "<table border=\"1\" class=\"dataframe\">\n",
       "  <thead>\n",
       "    <tr style=\"text-align: right;\">\n",
       "      <th></th>\n",
       "      <th>example_id</th>\n",
       "      <th>label</th>\n",
       "    </tr>\n",
       "  </thead>\n",
       "  <tbody>\n",
       "    <tr>\n",
       "      <th>0</th>\n",
       "      <td>24bf52cc84b75bce8ee9c0cdd0b5117f</td>\n",
       "      <td>False</td>\n",
       "    </tr>\n",
       "    <tr>\n",
       "      <th>1</th>\n",
       "      <td>708cc462eca0c274bcff304bbc4396f8</td>\n",
       "      <td>False</td>\n",
       "    </tr>\n",
       "    <tr>\n",
       "      <th>2</th>\n",
       "      <td>c5da1d371af9525d2fc2174311e3dae4</td>\n",
       "      <td>False</td>\n",
       "    </tr>\n",
       "    <tr>\n",
       "      <th>3</th>\n",
       "      <td>844f5f5be464a0600891ac6b8c1a1afd</td>\n",
       "      <td>True</td>\n",
       "    </tr>\n",
       "    <tr>\n",
       "      <th>4</th>\n",
       "      <td>97daba48c36db68f3e84ebcbf8952aa2</td>\n",
       "      <td>True</td>\n",
       "    </tr>\n",
       "    <tr>\n",
       "      <th>...</th>\n",
       "      <td>...</td>\n",
       "      <td>...</td>\n",
       "    </tr>\n",
       "    <tr>\n",
       "      <th>781</th>\n",
       "      <td>d88c14f3513eeac07d96bf2247e590da</td>\n",
       "      <td>False</td>\n",
       "    </tr>\n",
       "    <tr>\n",
       "      <th>782</th>\n",
       "      <td>d86ba8e778366f29d751212248a8b117</td>\n",
       "      <td>False</td>\n",
       "    </tr>\n",
       "    <tr>\n",
       "      <th>783</th>\n",
       "      <td>77d311fd2f0fe6e7120e92efc00a3dc1</td>\n",
       "      <td>False</td>\n",
       "    </tr>\n",
       "    <tr>\n",
       "      <th>784</th>\n",
       "      <td>d1e6b79eed2ed19f35c2bbc3bf3c7940</td>\n",
       "      <td>True</td>\n",
       "    </tr>\n",
       "    <tr>\n",
       "      <th>785</th>\n",
       "      <td>39f1960e9fa6d6dee905f7380922d29d</td>\n",
       "      <td>False</td>\n",
       "    </tr>\n",
       "  </tbody>\n",
       "</table>\n",
       "<p>786 rows × 2 columns</p>\n",
       "</div>"
      ],
      "text/plain": [
       "                           example_id  label\n",
       "0    24bf52cc84b75bce8ee9c0cdd0b5117f  False\n",
       "1    708cc462eca0c274bcff304bbc4396f8  False\n",
       "2    c5da1d371af9525d2fc2174311e3dae4  False\n",
       "3    844f5f5be464a0600891ac6b8c1a1afd   True\n",
       "4    97daba48c36db68f3e84ebcbf8952aa2   True\n",
       "..                                ...    ...\n",
       "781  d88c14f3513eeac07d96bf2247e590da  False\n",
       "782  d86ba8e778366f29d751212248a8b117  False\n",
       "783  77d311fd2f0fe6e7120e92efc00a3dc1  False\n",
       "784  d1e6b79eed2ed19f35c2bbc3bf3c7940   True\n",
       "785  39f1960e9fa6d6dee905f7380922d29d  False\n",
       "\n",
       "[786 rows x 2 columns]"
      ]
     },
     "execution_count": 30,
     "metadata": {},
     "output_type": "execute_result"
    }
   ],
   "source": [
    "sample_submission"
   ]
  },
  {
   "cell_type": "code",
   "execution_count": 31,
   "metadata": {},
   "outputs": [],
   "source": [
    "#sample_submission.to_csv(r'C:\\Users\\orang\\Documents\\submission.csv', index = False)"
   ]
  },
  {
   "cell_type": "code",
   "execution_count": 45,
   "metadata": {},
   "outputs": [
    {
     "ename": "NameError",
     "evalue": "name 'head' is not defined",
     "output_type": "error",
     "traceback": [
      "\u001b[1;31m---------------------------------------------------------------------------\u001b[0m",
      "\u001b[1;31mNameError\u001b[0m                                 Traceback (most recent call last)",
      "\u001b[1;32m<ipython-input-45-77f4c7392e14>\u001b[0m in \u001b[0;36m<module>\u001b[1;34m\u001b[0m\n\u001b[1;32m----> 1\u001b[1;33m \u001b[0mhead\u001b[0m\u001b[1;33m(\u001b[0m\u001b[0mvocabulary\u001b[0m\u001b[1;33m)\u001b[0m\u001b[1;33m\u001b[0m\u001b[1;33m\u001b[0m\u001b[0m\n\u001b[0m",
      "\u001b[1;31mNameError\u001b[0m: name 'head' is not defined"
     ]
    }
   ],
   "source": []
  },
  {
   "cell_type": "markdown",
   "metadata": {},
   "source": [
    "# -------------------------------------------------------------------------------------------"
   ]
  },
  {
   "cell_type": "markdown",
   "metadata": {},
   "source": [
    "# https://www.kaggle.com/sanikamal/text-classification-with-python-and-keras"
   ]
  },
  {
   "cell_type": "code",
   "execution_count": 32,
   "metadata": {},
   "outputs": [],
   "source": [
    "import numpy as np # linear algebra\n",
    "import pandas as pd # data processing, CSV file I/O (e.g. pd.read_csv)\n",
    "import matplotlib.pyplot as plt\n",
    "plt.style.use('ggplot')\n",
    "\n",
    "from sklearn.feature_extraction.text import CountVectorizer\n",
    "from sklearn.model_selection import train_test_split\n",
    "from sklearn.linear_model import LogisticRegression\n",
    "from sklearn.preprocessing import LabelEncoder\n",
    "from sklearn.preprocessing import OneHotEncoder\n",
    "from sklearn.model_selection import RandomizedSearchCV\n",
    "\n",
    "from keras.models import Sequential\n",
    "from keras import layers\n",
    "from keras.preprocessing.text import Tokenizer\n",
    "from keras.preprocessing.sequence import pad_sequences\n",
    "from keras.wrappers.scikit_learn import KerasClassifier\n",
    "\n",
    "import os"
   ]
  },
  {
   "cell_type": "code",
   "execution_count": 46,
   "metadata": {},
   "outputs": [],
   "source": [
    "sentences = df['text'].values\n",
    "y = df['label'].values"
   ]
  },
  {
   "cell_type": "code",
   "execution_count": 47,
   "metadata": {},
   "outputs": [],
   "source": [
    "sentences_train, sentences_test, y_train, y_test = train_test_split(sentences, y, test_size=0.25, random_state=1000)"
   ]
  },
  {
   "cell_type": "code",
   "execution_count": 48,
   "metadata": {},
   "outputs": [],
   "source": [
    "vectorizer = CountVectorizer()\n",
    "vectorizer.fit(sentences_train)\n",
    "\n",
    "X_train = vectorizer.transform(sentences_train)\n",
    "X_test  = vectorizer.transform(sentences_test)"
   ]
  },
  {
   "cell_type": "code",
   "execution_count": 49,
   "metadata": {},
   "outputs": [
    {
     "data": {
      "text/plain": [
       "<891x3756 sparse matrix of type '<class 'numpy.int64'>'\n",
       "\twith 12059 stored elements in Compressed Sparse Row format>"
      ]
     },
     "execution_count": 49,
     "metadata": {},
     "output_type": "execute_result"
    }
   ],
   "source": [
    "X_train\n"
   ]
  },
  {
   "cell_type": "code",
   "execution_count": 71,
   "metadata": {},
   "outputs": [
    {
     "name": "stdout",
     "output_type": "stream",
     "text": [
      "Accuracy: 0.8154362416107382\n"
     ]
    }
   ],
   "source": [
    "classifier = LogisticRegression()\n",
    "classifier.fit(X_train, y_train)\n",
    "score = classifier.score(X_test, y_test)\n",
    "\n",
    "print(\"Accuracy:\", score)"
   ]
  },
  {
   "cell_type": "code",
   "execution_count": 72,
   "metadata": {},
   "outputs": [],
   "source": [
    "\n",
    "\n",
    "    sentences_train, sentences_test, y_train, y_test = train_test_split(\n",
    "        sentences, y, test_size=0.25, random_state=1000)\n",
    "\n",
    "    vectorizer = CountVectorizer()\n",
    "    vectorizer.fit(sentences_train)\n",
    "    X_train = vectorizer.transform(sentences_train)\n",
    "    X_test  = vectorizer.transform(sentences_test)\n",
    "\n",
    "    classifier = LogisticRegression()\n",
    "    classifier.fit(X_train, y_train)\n",
    "    score = classifier.score(X_test, y_test)\n"
   ]
  },
  {
   "cell_type": "markdown",
   "metadata": {},
   "source": [
    "First Keras Model\n",
    "\n",
    "Keras supports two main types of models. You have the Sequential model API and the functional API which can do everything of the Sequential model but it can be also used for advanced models with complex network architectures.\n",
    "\n",
    "The Sequential model is a linear stack of layers, where you can use the large variety of available layers in Keras. The most common layer is the Dense layer which is your regular densely connected neural network layer with all the weights and biases that you are already familiar with.\n",
    "\n",
    "Before we build our model, we need to know the input dimension of our feature vectors. This happens only in the first layer since the following layers can do automatic shape inference. In order to build the Sequential model, you can add layers one by one in order"
   ]
  },
  {
   "cell_type": "code",
   "execution_count": 73,
   "metadata": {},
   "outputs": [],
   "source": [
    "input_dim = X_train.shape[1]  # Number of features\n",
    "\n",
    "model = Sequential()\n",
    "model.add(layers.Dense(10, input_dim=input_dim, activation='relu'))\n",
    "model.add(layers.Dense(1, activation='sigmoid'))"
   ]
  },
  {
   "cell_type": "code",
   "execution_count": 52,
   "metadata": {},
   "outputs": [
    {
     "name": "stdout",
     "output_type": "stream",
     "text": [
      "Model: \"sequential_2\"\n",
      "_________________________________________________________________\n",
      "Layer (type)                 Output Shape              Param #   \n",
      "=================================================================\n",
      "dense_4 (Dense)              (None, 10)                37570     \n",
      "_________________________________________________________________\n",
      "dense_5 (Dense)              (None, 1)                 11        \n",
      "=================================================================\n",
      "Total params: 37,581\n",
      "Trainable params: 37,581\n",
      "Non-trainable params: 0\n",
      "_________________________________________________________________\n"
     ]
    }
   ],
   "source": [
    "model.compile(loss='binary_crossentropy', \n",
    "              optimizer='adam', \n",
    "              metrics=['accuracy'])\n",
    "model.summary()"
   ]
  },
  {
   "cell_type": "code",
   "execution_count": 53,
   "metadata": {},
   "outputs": [
    {
     "name": "stdout",
     "output_type": "stream",
     "text": [
      "Epoch 1/100\n"
     ]
    },
    {
     "name": "stderr",
     "output_type": "stream",
     "text": [
      "C:\\Users\\bokan\\anaconda3\\lib\\site-packages\\tensorflow\\python\\framework\\indexed_slices.py:447: UserWarning: Converting sparse IndexedSlices(IndexedSlices(indices=Tensor(\"gradient_tape/sequential_2/dense_4/embedding_lookup_sparse/Reshape_1:0\", shape=(None,), dtype=int32), values=Tensor(\"gradient_tape/sequential_2/dense_4/embedding_lookup_sparse/Reshape:0\", shape=(None, 10), dtype=float32), dense_shape=Tensor(\"gradient_tape/sequential_2/dense_4/embedding_lookup_sparse/Cast:0\", shape=(2,), dtype=int32))) to a dense Tensor of unknown shape. This may consume a large amount of memory.\n",
      "  warnings.warn(\n"
     ]
    },
    {
     "name": "stdout",
     "output_type": "stream",
     "text": [
      "90/90 [==============================] - 3s 10ms/step - loss: 0.6652 - accuracy: 0.6182 - val_loss: 0.6060 - val_accuracy: 0.5973\n",
      "Epoch 2/100\n",
      "90/90 [==============================] - 0s 2ms/step - loss: 0.5549 - accuracy: 0.6936 - val_loss: 0.5381 - val_accuracy: 0.7215\n",
      "Epoch 3/100\n",
      "90/90 [==============================] - 0s 2ms/step - loss: 0.4184 - accuracy: 0.9053 - val_loss: 0.4794 - val_accuracy: 0.7987\n",
      "Epoch 4/100\n",
      "90/90 [==============================] - 0s 3ms/step - loss: 0.3093 - accuracy: 0.9436 - val_loss: 0.4434 - val_accuracy: 0.8054\n",
      "Epoch 5/100\n",
      "90/90 [==============================] - 0s 3ms/step - loss: 0.2322 - accuracy: 0.9790 - val_loss: 0.4171 - val_accuracy: 0.8255\n",
      "Epoch 6/100\n",
      "90/90 [==============================] - 0s 2ms/step - loss: 0.1763 - accuracy: 0.9727 - val_loss: 0.4076 - val_accuracy: 0.8221\n",
      "Epoch 7/100\n",
      "90/90 [==============================] - 0s 2ms/step - loss: 0.1182 - accuracy: 0.9863 - val_loss: 0.3991 - val_accuracy: 0.8255\n",
      "Epoch 8/100\n",
      "90/90 [==============================] - 0s 2ms/step - loss: 0.1062 - accuracy: 0.9883 - val_loss: 0.3996 - val_accuracy: 0.8322\n",
      "Epoch 9/100\n",
      "90/90 [==============================] - 0s 2ms/step - loss: 0.0758 - accuracy: 0.9902 - val_loss: 0.4012 - val_accuracy: 0.8322\n",
      "Epoch 10/100\n",
      "90/90 [==============================] - 0s 3ms/step - loss: 0.0623 - accuracy: 0.9970 - val_loss: 0.4085 - val_accuracy: 0.8322\n",
      "Epoch 11/100\n",
      "90/90 [==============================] - 0s 3ms/step - loss: 0.0493 - accuracy: 0.9978 - val_loss: 0.4103 - val_accuracy: 0.8356\n",
      "Epoch 12/100\n",
      "90/90 [==============================] - 0s 2ms/step - loss: 0.0414 - accuracy: 0.9963 - val_loss: 0.4090 - val_accuracy: 0.8389\n",
      "Epoch 13/100\n",
      "90/90 [==============================] - 0s 2ms/step - loss: 0.0395 - accuracy: 0.9983 - val_loss: 0.4126 - val_accuracy: 0.8389\n",
      "Epoch 14/100\n",
      "90/90 [==============================] - 0s 3ms/step - loss: 0.0285 - accuracy: 0.9990 - val_loss: 0.4200 - val_accuracy: 0.8389\n",
      "Epoch 15/100\n",
      "90/90 [==============================] - 0s 3ms/step - loss: 0.0259 - accuracy: 0.9993 - val_loss: 0.4249 - val_accuracy: 0.8389\n",
      "Epoch 16/100\n",
      "90/90 [==============================] - 0s 3ms/step - loss: 0.0241 - accuracy: 0.9997 - val_loss: 0.4303 - val_accuracy: 0.8356\n",
      "Epoch 17/100\n",
      "90/90 [==============================] - 0s 3ms/step - loss: 0.0227 - accuracy: 0.9994 - val_loss: 0.4316 - val_accuracy: 0.8322\n",
      "Epoch 18/100\n",
      "90/90 [==============================] - 0s 2ms/step - loss: 0.0168 - accuracy: 0.9999 - val_loss: 0.4387 - val_accuracy: 0.8322\n",
      "Epoch 19/100\n",
      "90/90 [==============================] - 0s 3ms/step - loss: 0.0159 - accuracy: 0.9999 - val_loss: 0.4433 - val_accuracy: 0.8322\n",
      "Epoch 20/100\n",
      "90/90 [==============================] - 0s 3ms/step - loss: 0.0137 - accuracy: 0.9986 - val_loss: 0.4508 - val_accuracy: 0.8322\n",
      "Epoch 21/100\n",
      "90/90 [==============================] - 0s 3ms/step - loss: 0.0140 - accuracy: 0.9979 - val_loss: 0.4591 - val_accuracy: 0.8322\n",
      "Epoch 22/100\n",
      "90/90 [==============================] - 0s 3ms/step - loss: 0.0110 - accuracy: 0.9988 - val_loss: 0.4578 - val_accuracy: 0.8389\n",
      "Epoch 23/100\n",
      "90/90 [==============================] - 0s 3ms/step - loss: 0.0100 - accuracy: 0.9998 - val_loss: 0.4644 - val_accuracy: 0.8423\n",
      "Epoch 24/100\n",
      "90/90 [==============================] - 0s 3ms/step - loss: 0.0084 - accuracy: 1.0000 - val_loss: 0.4729 - val_accuracy: 0.8423\n",
      "Epoch 25/100\n",
      "90/90 [==============================] - 0s 3ms/step - loss: 0.0083 - accuracy: 1.0000 - val_loss: 0.4760 - val_accuracy: 0.8423\n",
      "Epoch 26/100\n",
      "90/90 [==============================] - 0s 3ms/step - loss: 0.0086 - accuracy: 1.0000 - val_loss: 0.4825 - val_accuracy: 0.8389\n",
      "Epoch 27/100\n",
      "90/90 [==============================] - 0s 3ms/step - loss: 0.0074 - accuracy: 1.0000 - val_loss: 0.4850 - val_accuracy: 0.8322\n",
      "Epoch 28/100\n",
      "90/90 [==============================] - 0s 4ms/step - loss: 0.0058 - accuracy: 1.0000 - val_loss: 0.4916 - val_accuracy: 0.8322\n",
      "Epoch 29/100\n",
      "90/90 [==============================] - 0s 4ms/step - loss: 0.0073 - accuracy: 1.0000 - val_loss: 0.4952 - val_accuracy: 0.8322\n",
      "Epoch 30/100\n",
      "90/90 [==============================] - 0s 3ms/step - loss: 0.0054 - accuracy: 1.0000 - val_loss: 0.4999 - val_accuracy: 0.8322\n",
      "Epoch 31/100\n",
      "90/90 [==============================] - 0s 3ms/step - loss: 0.0044 - accuracy: 1.0000 - val_loss: 0.5107 - val_accuracy: 0.8322\n",
      "Epoch 32/100\n",
      "90/90 [==============================] - 0s 3ms/step - loss: 0.0047 - accuracy: 1.0000 - val_loss: 0.5122 - val_accuracy: 0.8322\n",
      "Epoch 33/100\n",
      "90/90 [==============================] - 0s 2ms/step - loss: 0.0048 - accuracy: 1.0000 - val_loss: 0.5198 - val_accuracy: 0.8322\n",
      "Epoch 34/100\n",
      "90/90 [==============================] - 0s 2ms/step - loss: 0.0043 - accuracy: 1.0000 - val_loss: 0.5235 - val_accuracy: 0.8322\n",
      "Epoch 35/100\n",
      "90/90 [==============================] - 0s 2ms/step - loss: 0.0032 - accuracy: 1.0000 - val_loss: 0.5297 - val_accuracy: 0.8322\n",
      "Epoch 36/100\n",
      "90/90 [==============================] - 0s 2ms/step - loss: 0.0028 - accuracy: 1.0000 - val_loss: 0.5328 - val_accuracy: 0.8322\n",
      "Epoch 37/100\n",
      "90/90 [==============================] - 0s 2ms/step - loss: 0.0029 - accuracy: 1.0000 - val_loss: 0.5382 - val_accuracy: 0.8322\n",
      "Epoch 38/100\n",
      "90/90 [==============================] - 0s 2ms/step - loss: 0.0024 - accuracy: 1.0000 - val_loss: 0.5424 - val_accuracy: 0.8322\n",
      "Epoch 39/100\n",
      "90/90 [==============================] - 0s 2ms/step - loss: 0.0030 - accuracy: 1.0000 - val_loss: 0.5471 - val_accuracy: 0.8322\n",
      "Epoch 40/100\n",
      "90/90 [==============================] - 0s 2ms/step - loss: 0.0029 - accuracy: 1.0000 - val_loss: 0.5560 - val_accuracy: 0.8255\n",
      "Epoch 41/100\n",
      "90/90 [==============================] - 0s 2ms/step - loss: 0.0022 - accuracy: 1.0000 - val_loss: 0.5583 - val_accuracy: 0.8255\n",
      "Epoch 42/100\n",
      "90/90 [==============================] - 0s 2ms/step - loss: 0.0027 - accuracy: 1.0000 - val_loss: 0.5631 - val_accuracy: 0.8255\n",
      "Epoch 43/100\n",
      "90/90 [==============================] - 0s 3ms/step - loss: 0.0023 - accuracy: 1.0000 - val_loss: 0.5655 - val_accuracy: 0.8289\n",
      "Epoch 44/100\n",
      "90/90 [==============================] - 0s 3ms/step - loss: 0.0016 - accuracy: 1.0000 - val_loss: 0.5719 - val_accuracy: 0.8221\n",
      "Epoch 45/100\n",
      "90/90 [==============================] - 0s 2ms/step - loss: 0.0017 - accuracy: 1.0000 - val_loss: 0.5770 - val_accuracy: 0.8221\n",
      "Epoch 46/100\n",
      "90/90 [==============================] - 0s 2ms/step - loss: 0.0016 - accuracy: 1.0000 - val_loss: 0.5842 - val_accuracy: 0.8221\n",
      "Epoch 47/100\n",
      "90/90 [==============================] - 0s 2ms/step - loss: 0.0019 - accuracy: 1.0000 - val_loss: 0.5857 - val_accuracy: 0.8221\n",
      "Epoch 48/100\n",
      "90/90 [==============================] - 0s 2ms/step - loss: 0.0016 - accuracy: 1.0000 - val_loss: 0.5921 - val_accuracy: 0.8221\n",
      "Epoch 49/100\n",
      "90/90 [==============================] - 0s 3ms/step - loss: 0.0013 - accuracy: 1.0000 - val_loss: 0.5953 - val_accuracy: 0.8221\n",
      "Epoch 50/100\n",
      "90/90 [==============================] - 0s 3ms/step - loss: 0.0012 - accuracy: 1.0000 - val_loss: 0.6004 - val_accuracy: 0.8221\n",
      "Epoch 51/100\n",
      "90/90 [==============================] - 0s 3ms/step - loss: 0.0010 - accuracy: 1.0000 - val_loss: 0.6043 - val_accuracy: 0.8255\n",
      "Epoch 52/100\n",
      "90/90 [==============================] - 0s 3ms/step - loss: 0.0013 - accuracy: 1.0000 - val_loss: 0.6120 - val_accuracy: 0.8221\n",
      "Epoch 53/100\n",
      "90/90 [==============================] - 0s 3ms/step - loss: 0.0015 - accuracy: 1.0000 - val_loss: 0.6128 - val_accuracy: 0.8221\n",
      "Epoch 54/100\n",
      "90/90 [==============================] - 0s 3ms/step - loss: 9.6788e-04 - accuracy: 1.0000 - val_loss: 0.6201 - val_accuracy: 0.8221\n",
      "Epoch 55/100\n",
      "90/90 [==============================] - 0s 2ms/step - loss: 9.5511e-04 - accuracy: 1.0000 - val_loss: 0.6236 - val_accuracy: 0.8221\n",
      "Epoch 56/100\n",
      "90/90 [==============================] - 0s 3ms/step - loss: 0.0010 - accuracy: 1.0000 - val_loss: 0.6309 - val_accuracy: 0.8221\n",
      "Epoch 57/100\n",
      "90/90 [==============================] - 0s 3ms/step - loss: 9.7461e-04 - accuracy: 1.0000 - val_loss: 0.6343 - val_accuracy: 0.8221\n",
      "Epoch 58/100\n",
      "90/90 [==============================] - 0s 3ms/step - loss: 7.9084e-04 - accuracy: 1.0000 - val_loss: 0.6403 - val_accuracy: 0.8188\n"
     ]
    },
    {
     "name": "stdout",
     "output_type": "stream",
     "text": [
      "Epoch 59/100\n",
      "90/90 [==============================] - 0s 2ms/step - loss: 7.9941e-04 - accuracy: 1.0000 - val_loss: 0.6421 - val_accuracy: 0.8221\n",
      "Epoch 60/100\n",
      "90/90 [==============================] - 0s 2ms/step - loss: 7.4624e-04 - accuracy: 1.0000 - val_loss: 0.6475 - val_accuracy: 0.8221\n",
      "Epoch 61/100\n",
      "90/90 [==============================] - 0s 2ms/step - loss: 6.3014e-04 - accuracy: 1.0000 - val_loss: 0.6526 - val_accuracy: 0.8221\n",
      "Epoch 62/100\n",
      "90/90 [==============================] - 0s 3ms/step - loss: 5.1179e-04 - accuracy: 1.0000 - val_loss: 0.6562 - val_accuracy: 0.8221\n",
      "Epoch 63/100\n",
      "90/90 [==============================] - 0s 2ms/step - loss: 5.8147e-04 - accuracy: 1.0000 - val_loss: 0.6624 - val_accuracy: 0.8188\n",
      "Epoch 64/100\n",
      "90/90 [==============================] - 0s 2ms/step - loss: 4.8514e-04 - accuracy: 1.0000 - val_loss: 0.6678 - val_accuracy: 0.8188\n",
      "Epoch 65/100\n",
      "90/90 [==============================] - 0s 2ms/step - loss: 6.1880e-04 - accuracy: 1.0000 - val_loss: 0.6716 - val_accuracy: 0.8188\n",
      "Epoch 66/100\n",
      "90/90 [==============================] - 0s 2ms/step - loss: 5.6712e-04 - accuracy: 1.0000 - val_loss: 0.6738 - val_accuracy: 0.8188\n",
      "Epoch 67/100\n",
      "90/90 [==============================] - 0s 2ms/step - loss: 5.8110e-04 - accuracy: 1.0000 - val_loss: 0.6775 - val_accuracy: 0.8221\n",
      "Epoch 68/100\n",
      "90/90 [==============================] - 0s 2ms/step - loss: 4.1983e-04 - accuracy: 1.0000 - val_loss: 0.6851 - val_accuracy: 0.8188\n",
      "Epoch 69/100\n",
      "90/90 [==============================] - 0s 3ms/step - loss: 4.8410e-04 - accuracy: 1.0000 - val_loss: 0.6903 - val_accuracy: 0.8121\n",
      "Epoch 70/100\n",
      "90/90 [==============================] - 0s 2ms/step - loss: 4.2029e-04 - accuracy: 1.0000 - val_loss: 0.6931 - val_accuracy: 0.8154\n",
      "Epoch 71/100\n",
      "90/90 [==============================] - 0s 2ms/step - loss: 4.1872e-04 - accuracy: 1.0000 - val_loss: 0.6989 - val_accuracy: 0.8121\n",
      "Epoch 72/100\n",
      "90/90 [==============================] - 0s 2ms/step - loss: 3.1293e-04 - accuracy: 1.0000 - val_loss: 0.7032 - val_accuracy: 0.8121\n",
      "Epoch 73/100\n",
      "90/90 [==============================] - 0s 3ms/step - loss: 3.6958e-04 - accuracy: 1.0000 - val_loss: 0.7069 - val_accuracy: 0.8188\n",
      "Epoch 74/100\n",
      "90/90 [==============================] - 0s 3ms/step - loss: 3.7778e-04 - accuracy: 1.0000 - val_loss: 0.7122 - val_accuracy: 0.8121\n",
      "Epoch 75/100\n",
      "90/90 [==============================] - 0s 2ms/step - loss: 2.7497e-04 - accuracy: 1.0000 - val_loss: 0.7166 - val_accuracy: 0.8121\n",
      "Epoch 76/100\n",
      "90/90 [==============================] - 0s 3ms/step - loss: 2.2794e-04 - accuracy: 1.0000 - val_loss: 0.7223 - val_accuracy: 0.8087\n",
      "Epoch 77/100\n",
      "90/90 [==============================] - 0s 3ms/step - loss: 3.3629e-04 - accuracy: 1.0000 - val_loss: 0.7252 - val_accuracy: 0.8121\n",
      "Epoch 78/100\n",
      "90/90 [==============================] - 0s 3ms/step - loss: 2.7099e-04 - accuracy: 1.0000 - val_loss: 0.7307 - val_accuracy: 0.8087\n",
      "Epoch 79/100\n",
      "90/90 [==============================] - 0s 3ms/step - loss: 2.3567e-04 - accuracy: 1.0000 - val_loss: 0.7358 - val_accuracy: 0.8087\n",
      "Epoch 80/100\n",
      "90/90 [==============================] - 0s 2ms/step - loss: 1.9427e-04 - accuracy: 1.0000 - val_loss: 0.7402 - val_accuracy: 0.8087\n",
      "Epoch 81/100\n",
      "90/90 [==============================] - 0s 3ms/step - loss: 1.7960e-04 - accuracy: 1.0000 - val_loss: 0.7456 - val_accuracy: 0.8087\n",
      "Epoch 82/100\n",
      "90/90 [==============================] - 0s 3ms/step - loss: 2.0686e-04 - accuracy: 1.0000 - val_loss: 0.7482 - val_accuracy: 0.8087\n",
      "Epoch 83/100\n",
      "90/90 [==============================] - 0s 2ms/step - loss: 1.6298e-04 - accuracy: 1.0000 - val_loss: 0.7536 - val_accuracy: 0.8087\n",
      "Epoch 84/100\n",
      "90/90 [==============================] - 0s 2ms/step - loss: 2.0209e-04 - accuracy: 1.0000 - val_loss: 0.7574 - val_accuracy: 0.8087\n",
      "Epoch 85/100\n",
      "90/90 [==============================] - 0s 3ms/step - loss: 1.3782e-04 - accuracy: 1.0000 - val_loss: 0.7640 - val_accuracy: 0.8087\n",
      "Epoch 86/100\n",
      "90/90 [==============================] - 0s 2ms/step - loss: 1.6232e-04 - accuracy: 1.0000 - val_loss: 0.7680 - val_accuracy: 0.8087\n",
      "Epoch 87/100\n",
      "90/90 [==============================] - 0s 2ms/step - loss: 1.8650e-04 - accuracy: 1.0000 - val_loss: 0.7726 - val_accuracy: 0.8121\n",
      "Epoch 88/100\n",
      "90/90 [==============================] - 0s 3ms/step - loss: 1.3940e-04 - accuracy: 1.0000 - val_loss: 0.7765 - val_accuracy: 0.8121\n",
      "Epoch 89/100\n",
      "90/90 [==============================] - 0s 2ms/step - loss: 1.3894e-04 - accuracy: 1.0000 - val_loss: 0.7803 - val_accuracy: 0.8121\n",
      "Epoch 90/100\n",
      "90/90 [==============================] - 0s 2ms/step - loss: 1.1214e-04 - accuracy: 1.0000 - val_loss: 0.7867 - val_accuracy: 0.8121\n",
      "Epoch 91/100\n",
      "90/90 [==============================] - 0s 2ms/step - loss: 1.1875e-04 - accuracy: 1.0000 - val_loss: 0.7880 - val_accuracy: 0.8087\n",
      "Epoch 92/100\n",
      "90/90 [==============================] - 0s 3ms/step - loss: 1.2477e-04 - accuracy: 1.0000 - val_loss: 0.7944 - val_accuracy: 0.8054\n",
      "Epoch 93/100\n",
      "90/90 [==============================] - 0s 3ms/step - loss: 1.0821e-04 - accuracy: 1.0000 - val_loss: 0.7961 - val_accuracy: 0.8087\n",
      "Epoch 94/100\n",
      "90/90 [==============================] - 0s 3ms/step - loss: 1.0502e-04 - accuracy: 1.0000 - val_loss: 0.8040 - val_accuracy: 0.8054\n",
      "Epoch 95/100\n",
      "90/90 [==============================] - 0s 3ms/step - loss: 1.0323e-04 - accuracy: 1.0000 - val_loss: 0.8080 - val_accuracy: 0.8054\n",
      "Epoch 96/100\n",
      "90/90 [==============================] - 0s 3ms/step - loss: 1.0413e-04 - accuracy: 1.0000 - val_loss: 0.8130 - val_accuracy: 0.8054\n",
      "Epoch 97/100\n",
      "90/90 [==============================] - 0s 3ms/step - loss: 8.8956e-05 - accuracy: 1.0000 - val_loss: 0.8170 - val_accuracy: 0.8054\n",
      "Epoch 98/100\n",
      "90/90 [==============================] - 0s 2ms/step - loss: 1.0395e-04 - accuracy: 1.0000 - val_loss: 0.8155 - val_accuracy: 0.8054\n",
      "Epoch 99/100\n",
      "90/90 [==============================] - 0s 3ms/step - loss: 1.0734e-04 - accuracy: 1.0000 - val_loss: 0.8238 - val_accuracy: 0.8020\n",
      "Epoch 100/100\n",
      "90/90 [==============================] - 0s 3ms/step - loss: 7.5395e-05 - accuracy: 1.0000 - val_loss: 0.8318 - val_accuracy: 0.8054\n"
     ]
    }
   ],
   "source": [
    "history = model.fit(X_train, y_train,\n",
    "                    epochs=100,\n",
    "                    verbose=True,\n",
    "                    validation_data=(X_test, y_test),\n",
    "                    batch_size=10)"
   ]
  },
  {
   "cell_type": "code",
   "execution_count": 54,
   "metadata": {},
   "outputs": [
    {
     "name": "stdout",
     "output_type": "stream",
     "text": [
      "Training Accuracy: 1.0000\n",
      "Testing Accuracy:  0.8054\n"
     ]
    }
   ],
   "source": [
    "loss, accuracy = model.evaluate(X_train, y_train, verbose=False)\n",
    "print(\"Training Accuracy: {:.4f}\".format(accuracy))\n",
    "loss, accuracy = model.evaluate(X_test, y_test, verbose=False)\n",
    "print(\"Testing Accuracy:  {:.4f}\".format(accuracy))"
   ]
  },
  {
   "cell_type": "code",
   "execution_count": 76,
   "metadata": {},
   "outputs": [],
   "source": [
    "def plot_history(history):\n",
    "    acc = history.history['accuracy']\n",
    "    val_acc = history.history['val_accuracy']\n",
    "    loss = history.history['loss']\n",
    "    val_loss = history.history['val_loss']\n",
    "    x = range(1, len(acc) + 1)\n",
    "\n",
    "    plt.figure(figsize=(12, 5))\n",
    "    plt.subplot(1, 2, 1)\n",
    "    plt.plot(x, acc, 'b', label='Training acc')\n",
    "    plt.plot(x, val_acc, 'r', label='Validation acc')\n",
    "    plt.title('Training and validation accuracy')\n",
    "    plt.legend()\n",
    "    plt.subplot(1, 2, 2)\n",
    "    plt.plot(x, loss, 'b', label='Training loss')\n",
    "    plt.plot(x, val_loss, 'r', label='Validation loss')\n",
    "    plt.title('Training and validation loss')\n",
    "    plt.legend()"
   ]
  },
  {
   "cell_type": "code",
   "execution_count": 77,
   "metadata": {},
   "outputs": [
    {
     "data": {
      "image/png": "[encoded data removed]",
      "text/plain": [
       "<Figure size 864x360 with 2 Axes>"
      ]
     },
     "metadata": {},
     "output_type": "display_data"
    }
   ],
   "source": [
    "plot_history(history)"
   ]
  },
  {
   "cell_type": "code",
   "execution_count": null,
   "metadata": {},
   "outputs": [],
   "source": []
  }
 ],
 "metadata": {
  "kernelspec": {
   "display_name": "Python 3",
   "language": "python",
   "name": "python3"
  },
  "language_info": {
   "codemirror_mode": {
    "name": "ipython",
    "version": 3
   },
   "file_extension": ".py",
   "mimetype": "text/x-python",
   "name": "python",
   "nbconvert_exporter": "python",
   "pygments_lexer": "ipython3",
   "version": "3.8.3"
  }
 },
 "nbformat": 4,
 "nbformat_minor": 4
}
